{
 "cells": [
  {
   "cell_type": "code",
   "execution_count": 13,
   "metadata": {},
   "outputs": [],
   "source": [
    "import pandas as pd\n",
    "import numpy as np\n",
    "import matplotlib.pyplot as plt\n",
    "import seaborn as sns"
   ]
  },
  {
   "cell_type": "markdown",
   "metadata": {},
   "source": [
    "# Objective & Context\n",
    "This notebook analyzes the volatility and risk profile of the VFV stock. \n",
    "VFV tracks the S&P 500 index, so understanding its risk metrics is crucial for portfolio management.\n",
    "We will explore historical price data, calculate key risk indicators, and visualize market behavior."
   ]
  },
  {
   "cell_type": "code",
   "execution_count": 14,
   "metadata": {},
   "outputs": [
    {
     "name": "stderr",
     "output_type": "stream",
     "text": [
      "<>:5: SyntaxWarning: invalid escape sequence '\\$'\n",
      "<>:5: SyntaxWarning: invalid escape sequence '\\$'\n",
      "/var/folders/d_/vtbtm_tx56jbs30plxf7r3mh0000gn/T/ipykernel_68869/950173769.py:5: SyntaxWarning: invalid escape sequence '\\$'\n",
      "  vfv_data['Close'] = vfv_data['Close'].replace('[\\$,]', '', regex=True).astype(float)\n"
     ]
    },
    {
     "data": {
      "text/html": [
       "<div>\n",
       "<style scoped>\n",
       "    .dataframe tbody tr th:only-of-type {\n",
       "        vertical-align: middle;\n",
       "    }\n",
       "\n",
       "    .dataframe tbody tr th {\n",
       "        vertical-align: top;\n",
       "    }\n",
       "\n",
       "    .dataframe thead th {\n",
       "        text-align: right;\n",
       "    }\n",
       "</style>\n",
       "<table border=\"1\" class=\"dataframe\">\n",
       "  <thead>\n",
       "    <tr style=\"text-align: right;\">\n",
       "      <th></th>\n",
       "      <th>NAV (CAD)</th>\n",
       "      <th>Close</th>\n",
       "    </tr>\n",
       "    <tr>\n",
       "      <th>Date</th>\n",
       "      <th></th>\n",
       "      <th></th>\n",
       "    </tr>\n",
       "  </thead>\n",
       "  <tbody>\n",
       "    <tr>\n",
       "      <th>2014-11-18</th>\n",
       "      <td>$41.2499</td>\n",
       "      <td>41.245</td>\n",
       "    </tr>\n",
       "    <tr>\n",
       "      <th>2014-11-19</th>\n",
       "      <td>$41.3631</td>\n",
       "      <td>41.360</td>\n",
       "    </tr>\n",
       "    <tr>\n",
       "      <th>2014-11-20</th>\n",
       "      <td>$41.2772</td>\n",
       "      <td>41.285</td>\n",
       "    </tr>\n",
       "    <tr>\n",
       "      <th>2014-11-21</th>\n",
       "      <td>$41.2651</td>\n",
       "      <td>41.245</td>\n",
       "    </tr>\n",
       "    <tr>\n",
       "      <th>2014-11-24</th>\n",
       "      <td>$41.5520</td>\n",
       "      <td>41.565</td>\n",
       "    </tr>\n",
       "    <tr>\n",
       "      <th>...</th>\n",
       "      <td>...</td>\n",
       "      <td>...</td>\n",
       "    </tr>\n",
       "    <tr>\n",
       "      <th>2025-03-03</th>\n",
       "      <td>$150.7359</td>\n",
       "      <td>150.700</td>\n",
       "    </tr>\n",
       "    <tr>\n",
       "      <th>2025-03-04</th>\n",
       "      <td>$148.5961</td>\n",
       "      <td>148.600</td>\n",
       "    </tr>\n",
       "    <tr>\n",
       "      <th>2025-03-05</th>\n",
       "      <td>$148.8868</td>\n",
       "      <td>148.800</td>\n",
       "    </tr>\n",
       "    <tr>\n",
       "      <th>2025-03-06</th>\n",
       "      <td>$145.8448</td>\n",
       "      <td>145.810</td>\n",
       "    </tr>\n",
       "    <tr>\n",
       "      <th>2025-03-07</th>\n",
       "      <td>$147.2612</td>\n",
       "      <td>147.370</td>\n",
       "    </tr>\n",
       "  </tbody>\n",
       "</table>\n",
       "<p>2585 rows × 2 columns</p>\n",
       "</div>"
      ],
      "text/plain": [
       "            NAV (CAD)    Close\n",
       "Date                          \n",
       "2014-11-18   $41.2499   41.245\n",
       "2014-11-19   $41.3631   41.360\n",
       "2014-11-20   $41.2772   41.285\n",
       "2014-11-21   $41.2651   41.245\n",
       "2014-11-24   $41.5520   41.565\n",
       "...               ...      ...\n",
       "2025-03-03  $150.7359  150.700\n",
       "2025-03-04  $148.5961  148.600\n",
       "2025-03-05  $148.8868  148.800\n",
       "2025-03-06  $145.8448  145.810\n",
       "2025-03-07  $147.2612  147.370\n",
       "\n",
       "[2585 rows x 2 columns]"
      ]
     },
     "execution_count": 14,
     "metadata": {},
     "output_type": "execute_result"
    }
   ],
   "source": [
    "# Load Data\n",
    "vfv_data = pd.read_csv('../data/vfv_raw_data.csv', parse_dates=['Date'], index_col='Date')\n",
    "vfv_data.sort_index(inplace=True)\n",
    "vfv_data.rename(columns={'Market price (CAD)': 'Close'}, inplace=True)\n",
    "vfv_data['Close'] = vfv_data['Close'].replace('[\\$,]', '', regex=True).astype(float)\n",
    "vfv_data"
   ]
  }
 ],
 "metadata": {
  "kernelspec": {
   "display_name": "venv",
   "language": "python",
   "name": "python3"
  },
  "language_info": {
   "codemirror_mode": {
    "name": "ipython",
    "version": 3
   },
   "file_extension": ".py",
   "mimetype": "text/x-python",
   "name": "python",
   "nbconvert_exporter": "python",
   "pygments_lexer": "ipython3",
   "version": "3.13.2"
  }
 },
 "nbformat": 4,
 "nbformat_minor": 2
}
